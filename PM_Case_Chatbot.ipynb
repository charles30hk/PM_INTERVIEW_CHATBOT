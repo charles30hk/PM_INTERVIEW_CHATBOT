{
 "cells": [
  {
   "cell_type": "code",
   "execution_count": 69,
   "id": "d5f492c4-7474-49ca-ade5-5c736c4d15c2",
   "metadata": {},
   "outputs": [
    {
     "name": "stdout",
     "output_type": "stream",
     "text": [
      "Requirement already satisfied: openai in c:\\users\\charl\\anaconda3\\envs\\myenv\\lib\\site-packages (1.5.0)\n",
      "Requirement already satisfied: langchain in c:\\users\\charl\\anaconda3\\envs\\myenv\\lib\\site-packages (0.0.351)\n",
      "Requirement already satisfied: ipywidgets in c:\\users\\charl\\anaconda3\\envs\\myenv\\lib\\site-packages (8.1.1)\n",
      "Requirement already satisfied: unstructured in c:\\users\\charl\\anaconda3\\envs\\myenv\\lib\\site-packages (0.11.5)\n",
      "Requirement already satisfied: chromadb in c:\\users\\charl\\anaconda3\\envs\\myenv\\lib\\site-packages (0.4.20)\n",
      "Requirement already satisfied: tiktoken in c:\\users\\charl\\anaconda3\\envs\\myenv\\lib\\site-packages (0.5.2)\n",
      "Requirement already satisfied: anyio<5,>=3.5.0 in c:\\users\\charl\\anaconda3\\envs\\myenv\\lib\\site-packages (from openai) (3.7.1)\n",
      "Requirement already satisfied: distro<2,>=1.7.0 in c:\\users\\charl\\anaconda3\\envs\\myenv\\lib\\site-packages (from openai) (1.8.0)\n",
      "Requirement already satisfied: httpx<1,>=0.23.0 in c:\\users\\charl\\anaconda3\\envs\\myenv\\lib\\site-packages (from openai) (0.25.2)\n",
      "Requirement already satisfied: pydantic<3,>=1.9.0 in c:\\users\\charl\\anaconda3\\envs\\myenv\\lib\\site-packages (from openai) (2.5.2)\n",
      "Requirement already satisfied: sniffio in c:\\users\\charl\\anaconda3\\envs\\myenv\\lib\\site-packages (from openai) (1.2.0)\n",
      "Requirement already satisfied: tqdm>4 in c:\\users\\charl\\anaconda3\\envs\\myenv\\lib\\site-packages (from openai) (4.66.1)\n",
      "Requirement already satisfied: typing-extensions<5,>=4.5 in c:\\users\\charl\\anaconda3\\envs\\myenv\\lib\\site-packages (from openai) (4.9.0)\n",
      "Requirement already satisfied: PyYAML>=5.3 in c:\\users\\charl\\anaconda3\\envs\\myenv\\lib\\site-packages (from langchain) (6.0.1)\n",
      "Requirement already satisfied: SQLAlchemy<3,>=1.4 in c:\\users\\charl\\anaconda3\\envs\\myenv\\lib\\site-packages (from langchain) (2.0.23)\n",
      "Requirement already satisfied: aiohttp<4.0.0,>=3.8.3 in c:\\users\\charl\\anaconda3\\envs\\myenv\\lib\\site-packages (from langchain) (3.9.1)\n",
      "Requirement already satisfied: dataclasses-json<0.7,>=0.5.7 in c:\\users\\charl\\anaconda3\\envs\\myenv\\lib\\site-packages (from langchain) (0.6.3)\n",
      "Requirement already satisfied: jsonpatch<2.0,>=1.33 in c:\\users\\charl\\anaconda3\\envs\\myenv\\lib\\site-packages (from langchain) (1.33)\n",
      "Requirement already satisfied: langchain-community<0.1,>=0.0.2 in c:\\users\\charl\\anaconda3\\envs\\myenv\\lib\\site-packages (from langchain) (0.0.4)\n",
      "Requirement already satisfied: langchain-core<0.2,>=0.1 in c:\\users\\charl\\anaconda3\\envs\\myenv\\lib\\site-packages (from langchain) (0.1.1)\n",
      "Requirement already satisfied: langsmith<0.1.0,>=0.0.70 in c:\\users\\charl\\anaconda3\\envs\\myenv\\lib\\site-packages (from langchain) (0.0.72)\n",
      "Requirement already satisfied: numpy<2,>=1 in c:\\users\\charl\\anaconda3\\envs\\myenv\\lib\\site-packages (from langchain) (1.26.2)\n",
      "Requirement already satisfied: requests<3,>=2 in c:\\users\\charl\\anaconda3\\envs\\myenv\\lib\\site-packages (from langchain) (2.31.0)\n",
      "Requirement already satisfied: tenacity<9.0.0,>=8.1.0 in c:\\users\\charl\\anaconda3\\envs\\myenv\\lib\\site-packages (from langchain) (8.2.3)\n",
      "Requirement already satisfied: comm>=0.1.3 in c:\\users\\charl\\anaconda3\\envs\\myenv\\lib\\site-packages (from ipywidgets) (0.2.0)\n",
      "Requirement already satisfied: ipython>=6.1.0 in c:\\users\\charl\\anaconda3\\envs\\myenv\\lib\\site-packages (from ipywidgets) (8.15.0)\n",
      "Requirement already satisfied: traitlets>=4.3.1 in c:\\users\\charl\\anaconda3\\envs\\myenv\\lib\\site-packages (from ipywidgets) (5.7.1)\n",
      "Requirement already satisfied: widgetsnbextension~=4.0.9 in c:\\users\\charl\\anaconda3\\envs\\myenv\\lib\\site-packages (from ipywidgets) (4.0.9)\n",
      "Requirement already satisfied: jupyterlab-widgets~=3.0.9 in c:\\users\\charl\\anaconda3\\envs\\myenv\\lib\\site-packages (from ipywidgets) (3.0.9)\n",
      "Requirement already satisfied: chardet in c:\\users\\charl\\anaconda3\\envs\\myenv\\lib\\site-packages (from unstructured) (5.2.0)\n",
      "Requirement already satisfied: filetype in c:\\users\\charl\\anaconda3\\envs\\myenv\\lib\\site-packages (from unstructured) (1.2.0)\n",
      "Requirement already satisfied: python-magic in c:\\users\\charl\\anaconda3\\envs\\myenv\\lib\\site-packages (from unstructured) (0.4.27)\n",
      "Requirement already satisfied: lxml in c:\\users\\charl\\anaconda3\\envs\\myenv\\lib\\site-packages (from unstructured) (4.9.3)\n",
      "Requirement already satisfied: nltk in c:\\users\\charl\\anaconda3\\envs\\myenv\\lib\\site-packages (from unstructured) (3.8.1)\n",
      "Requirement already satisfied: tabulate in c:\\users\\charl\\anaconda3\\envs\\myenv\\lib\\site-packages (from unstructured) (0.9.0)\n",
      "Requirement already satisfied: beautifulsoup4 in c:\\users\\charl\\anaconda3\\envs\\myenv\\lib\\site-packages (from unstructured) (4.12.2)\n",
      "Requirement already satisfied: emoji in c:\\users\\charl\\anaconda3\\envs\\myenv\\lib\\site-packages (from unstructured) (2.9.0)\n",
      "Requirement already satisfied: python-iso639 in c:\\users\\charl\\anaconda3\\envs\\myenv\\lib\\site-packages (from unstructured) (2023.12.11)\n",
      "Requirement already satisfied: langdetect in c:\\users\\charl\\anaconda3\\envs\\myenv\\lib\\site-packages (from unstructured) (1.0.9)\n",
      "Requirement already satisfied: rapidfuzz in c:\\users\\charl\\anaconda3\\envs\\myenv\\lib\\site-packages (from unstructured) (3.5.2)\n",
      "Requirement already satisfied: backoff in c:\\users\\charl\\anaconda3\\envs\\myenv\\lib\\site-packages (from unstructured) (2.2.1)\n",
      "Requirement already satisfied: unstructured-client in c:\\users\\charl\\anaconda3\\envs\\myenv\\lib\\site-packages (from unstructured) (0.15.0)\n",
      "Requirement already satisfied: wrapt in c:\\users\\charl\\anaconda3\\envs\\myenv\\lib\\site-packages (from unstructured) (1.16.0)\n",
      "Requirement already satisfied: chroma-hnswlib==0.7.3 in c:\\users\\charl\\anaconda3\\envs\\myenv\\lib\\site-packages (from chromadb) (0.7.3)\n",
      "Requirement already satisfied: fastapi>=0.95.2 in c:\\users\\charl\\anaconda3\\envs\\myenv\\lib\\site-packages (from chromadb) (0.105.0)\n",
      "Requirement already satisfied: uvicorn>=0.18.3 in c:\\users\\charl\\anaconda3\\envs\\myenv\\lib\\site-packages (from uvicorn[standard]>=0.18.3->chromadb) (0.24.0.post1)\n",
      "Requirement already satisfied: posthog>=2.4.0 in c:\\users\\charl\\anaconda3\\envs\\myenv\\lib\\site-packages (from chromadb) (3.1.0)\n",
      "Requirement already satisfied: pulsar-client>=3.1.0 in c:\\users\\charl\\anaconda3\\envs\\myenv\\lib\\site-packages (from chromadb) (3.3.0)\n",
      "Requirement already satisfied: onnxruntime>=1.14.1 in c:\\users\\charl\\anaconda3\\envs\\myenv\\lib\\site-packages (from chromadb) (1.16.3)\n",
      "Requirement already satisfied: opentelemetry-api>=1.2.0 in c:\\users\\charl\\anaconda3\\envs\\myenv\\lib\\site-packages (from chromadb) (1.21.0)\n",
      "Requirement already satisfied: opentelemetry-exporter-otlp-proto-grpc>=1.2.0 in c:\\users\\charl\\anaconda3\\envs\\myenv\\lib\\site-packages (from chromadb) (1.21.0)\n",
      "Requirement already satisfied: opentelemetry-instrumentation-fastapi>=0.41b0 in c:\\users\\charl\\anaconda3\\envs\\myenv\\lib\\site-packages (from chromadb) (0.42b0)\n",
      "Requirement already satisfied: opentelemetry-sdk>=1.2.0 in c:\\users\\charl\\anaconda3\\envs\\myenv\\lib\\site-packages (from chromadb) (1.21.0)\n",
      "Requirement already satisfied: tokenizers>=0.13.2 in c:\\users\\charl\\anaconda3\\envs\\myenv\\lib\\site-packages (from chromadb) (0.15.0)\n",
      "Requirement already satisfied: pypika>=0.48.9 in c:\\users\\charl\\anaconda3\\envs\\myenv\\lib\\site-packages (from chromadb) (0.48.9)\n",
      "Requirement already satisfied: overrides>=7.3.1 in c:\\users\\charl\\anaconda3\\envs\\myenv\\lib\\site-packages (from chromadb) (7.4.0)\n",
      "Requirement already satisfied: importlib-resources in c:\\users\\charl\\anaconda3\\envs\\myenv\\lib\\site-packages (from chromadb) (6.1.1)\n",
      "Requirement already satisfied: grpcio>=1.58.0 in c:\\users\\charl\\anaconda3\\envs\\myenv\\lib\\site-packages (from chromadb) (1.60.0)\n",
      "Requirement already satisfied: bcrypt>=4.0.1 in c:\\users\\charl\\anaconda3\\envs\\myenv\\lib\\site-packages (from chromadb) (4.1.2)\n",
      "Requirement already satisfied: typer>=0.9.0 in c:\\users\\charl\\anaconda3\\envs\\myenv\\lib\\site-packages (from chromadb) (0.9.0)\n",
      "Requirement already satisfied: kubernetes>=28.1.0 in c:\\users\\charl\\anaconda3\\envs\\myenv\\lib\\site-packages (from chromadb) (28.1.0)\n",
      "Requirement already satisfied: mmh3>=4.0.1 in c:\\users\\charl\\anaconda3\\envs\\myenv\\lib\\site-packages (from chromadb) (4.0.1)\n",
      "Requirement already satisfied: regex>=2022.1.18 in c:\\users\\charl\\anaconda3\\envs\\myenv\\lib\\site-packages (from tiktoken) (2023.10.3)\n",
      "Requirement already satisfied: attrs>=17.3.0 in c:\\users\\charl\\anaconda3\\envs\\myenv\\lib\\site-packages (from aiohttp<4.0.0,>=3.8.3->langchain) (23.1.0)\n",
      "Requirement already satisfied: multidict<7.0,>=4.5 in c:\\users\\charl\\anaconda3\\envs\\myenv\\lib\\site-packages (from aiohttp<4.0.0,>=3.8.3->langchain) (6.0.4)\n",
      "Requirement already satisfied: yarl<2.0,>=1.0 in c:\\users\\charl\\anaconda3\\envs\\myenv\\lib\\site-packages (from aiohttp<4.0.0,>=3.8.3->langchain) (1.9.4)\n",
      "Requirement already satisfied: frozenlist>=1.1.1 in c:\\users\\charl\\anaconda3\\envs\\myenv\\lib\\site-packages (from aiohttp<4.0.0,>=3.8.3->langchain) (1.4.1)\n",
      "Requirement already satisfied: aiosignal>=1.1.2 in c:\\users\\charl\\anaconda3\\envs\\myenv\\lib\\site-packages (from aiohttp<4.0.0,>=3.8.3->langchain) (1.3.1)\n",
      "Requirement already satisfied: idna>=2.8 in c:\\users\\charl\\anaconda3\\envs\\myenv\\lib\\site-packages (from anyio<5,>=3.5.0->openai) (3.4)\n",
      "Requirement already satisfied: marshmallow<4.0.0,>=3.18.0 in c:\\users\\charl\\anaconda3\\envs\\myenv\\lib\\site-packages (from dataclasses-json<0.7,>=0.5.7->langchain) (3.20.1)\n",
      "Requirement already satisfied: typing-inspect<1,>=0.4.0 in c:\\users\\charl\\anaconda3\\envs\\myenv\\lib\\site-packages (from dataclasses-json<0.7,>=0.5.7->langchain) (0.9.0)\n",
      "Requirement already satisfied: starlette<0.28.0,>=0.27.0 in c:\\users\\charl\\anaconda3\\envs\\myenv\\lib\\site-packages (from fastapi>=0.95.2->chromadb) (0.27.0)\n",
      "Requirement already satisfied: certifi in c:\\users\\charl\\anaconda3\\envs\\myenv\\lib\\site-packages (from httpx<1,>=0.23.0->openai) (2023.11.17)\n",
      "Requirement already satisfied: httpcore==1.* in c:\\users\\charl\\anaconda3\\envs\\myenv\\lib\\site-packages (from httpx<1,>=0.23.0->openai) (1.0.2)\n",
      "Requirement already satisfied: h11<0.15,>=0.13 in c:\\users\\charl\\anaconda3\\envs\\myenv\\lib\\site-packages (from httpcore==1.*->httpx<1,>=0.23.0->openai) (0.14.0)\n",
      "Requirement already satisfied: backcall in c:\\users\\charl\\anaconda3\\envs\\myenv\\lib\\site-packages (from ipython>=6.1.0->ipywidgets) (0.2.0)\n",
      "Requirement already satisfied: decorator in c:\\users\\charl\\anaconda3\\envs\\myenv\\lib\\site-packages (from ipython>=6.1.0->ipywidgets) (5.1.1)\n",
      "Requirement already satisfied: jedi>=0.16 in c:\\users\\charl\\anaconda3\\envs\\myenv\\lib\\site-packages (from ipython>=6.1.0->ipywidgets) (0.18.1)\n",
      "Requirement already satisfied: matplotlib-inline in c:\\users\\charl\\anaconda3\\envs\\myenv\\lib\\site-packages (from ipython>=6.1.0->ipywidgets) (0.1.6)\n",
      "Requirement already satisfied: pickleshare in c:\\users\\charl\\anaconda3\\envs\\myenv\\lib\\site-packages (from ipython>=6.1.0->ipywidgets) (0.7.5)\n",
      "Requirement already satisfied: prompt-toolkit!=3.0.37,<3.1.0,>=3.0.30 in c:\\users\\charl\\anaconda3\\envs\\myenv\\lib\\site-packages (from ipython>=6.1.0->ipywidgets) (3.0.36)\n",
      "Requirement already satisfied: pygments>=2.4.0 in c:\\users\\charl\\anaconda3\\envs\\myenv\\lib\\site-packages (from ipython>=6.1.0->ipywidgets) (2.15.1)\n",
      "Requirement already satisfied: stack-data in c:\\users\\charl\\anaconda3\\envs\\myenv\\lib\\site-packages (from ipython>=6.1.0->ipywidgets) (0.2.0)\n",
      "Requirement already satisfied: colorama in c:\\users\\charl\\anaconda3\\envs\\myenv\\lib\\site-packages (from ipython>=6.1.0->ipywidgets) (0.4.6)\n",
      "Requirement already satisfied: jsonpointer>=1.9 in c:\\users\\charl\\anaconda3\\envs\\myenv\\lib\\site-packages (from jsonpatch<2.0,>=1.33->langchain) (2.4)\n",
      "Requirement already satisfied: six>=1.9.0 in c:\\users\\charl\\anaconda3\\envs\\myenv\\lib\\site-packages (from kubernetes>=28.1.0->chromadb) (1.16.0)\n",
      "Requirement already satisfied: python-dateutil>=2.5.3 in c:\\users\\charl\\anaconda3\\envs\\myenv\\lib\\site-packages (from kubernetes>=28.1.0->chromadb) (2.8.2)\n",
      "Requirement already satisfied: google-auth>=1.0.1 in c:\\users\\charl\\anaconda3\\envs\\myenv\\lib\\site-packages (from kubernetes>=28.1.0->chromadb) (2.25.2)\n",
      "Requirement already satisfied: websocket-client!=0.40.0,!=0.41.*,!=0.42.*,>=0.32.0 in c:\\users\\charl\\anaconda3\\envs\\myenv\\lib\\site-packages (from kubernetes>=28.1.0->chromadb) (0.58.0)\n",
      "Requirement already satisfied: requests-oauthlib in c:\\users\\charl\\anaconda3\\envs\\myenv\\lib\\site-packages (from kubernetes>=28.1.0->chromadb) (1.3.1)\n",
      "Requirement already satisfied: oauthlib>=3.2.2 in c:\\users\\charl\\anaconda3\\envs\\myenv\\lib\\site-packages (from kubernetes>=28.1.0->chromadb) (3.2.2)\n",
      "Requirement already satisfied: urllib3<2.0,>=1.24.2 in c:\\users\\charl\\anaconda3\\envs\\myenv\\lib\\site-packages (from kubernetes>=28.1.0->chromadb) (1.26.18)\n",
      "Requirement already satisfied: packaging<24.0,>=23.2 in c:\\users\\charl\\anaconda3\\envs\\myenv\\lib\\site-packages (from langchain-core<0.2,>=0.1->langchain) (23.2)\n",
      "Requirement already satisfied: coloredlogs in c:\\users\\charl\\anaconda3\\envs\\myenv\\lib\\site-packages (from onnxruntime>=1.14.1->chromadb) (15.0.1)\n",
      "Requirement already satisfied: flatbuffers in c:\\users\\charl\\anaconda3\\envs\\myenv\\lib\\site-packages (from onnxruntime>=1.14.1->chromadb) (23.5.26)\n",
      "Requirement already satisfied: protobuf in c:\\users\\charl\\anaconda3\\envs\\myenv\\lib\\site-packages (from onnxruntime>=1.14.1->chromadb) (4.25.1)\n",
      "Requirement already satisfied: sympy in c:\\users\\charl\\anaconda3\\envs\\myenv\\lib\\site-packages (from onnxruntime>=1.14.1->chromadb) (1.12)\n",
      "Requirement already satisfied: deprecated>=1.2.6 in c:\\users\\charl\\anaconda3\\envs\\myenv\\lib\\site-packages (from opentelemetry-api>=1.2.0->chromadb) (1.2.14)\n",
      "Requirement already satisfied: importlib-metadata<7.0,>=6.0 in c:\\users\\charl\\anaconda3\\envs\\myenv\\lib\\site-packages (from opentelemetry-api>=1.2.0->chromadb) (6.11.0)\n",
      "Requirement already satisfied: googleapis-common-protos~=1.52 in c:\\users\\charl\\anaconda3\\envs\\myenv\\lib\\site-packages (from opentelemetry-exporter-otlp-proto-grpc>=1.2.0->chromadb) (1.62.0)\n",
      "Requirement already satisfied: opentelemetry-exporter-otlp-proto-common==1.21.0 in c:\\users\\charl\\anaconda3\\envs\\myenv\\lib\\site-packages (from opentelemetry-exporter-otlp-proto-grpc>=1.2.0->chromadb) (1.21.0)\n",
      "Requirement already satisfied: opentelemetry-proto==1.21.0 in c:\\users\\charl\\anaconda3\\envs\\myenv\\lib\\site-packages (from opentelemetry-exporter-otlp-proto-grpc>=1.2.0->chromadb) (1.21.0)\n",
      "Requirement already satisfied: opentelemetry-instrumentation-asgi==0.42b0 in c:\\users\\charl\\anaconda3\\envs\\myenv\\lib\\site-packages (from opentelemetry-instrumentation-fastapi>=0.41b0->chromadb) (0.42b0)\n",
      "Requirement already satisfied: opentelemetry-instrumentation==0.42b0 in c:\\users\\charl\\anaconda3\\envs\\myenv\\lib\\site-packages (from opentelemetry-instrumentation-fastapi>=0.41b0->chromadb) (0.42b0)\n",
      "Requirement already satisfied: opentelemetry-semantic-conventions==0.42b0 in c:\\users\\charl\\anaconda3\\envs\\myenv\\lib\\site-packages (from opentelemetry-instrumentation-fastapi>=0.41b0->chromadb) (0.42b0)\n",
      "Requirement already satisfied: opentelemetry-util-http==0.42b0 in c:\\users\\charl\\anaconda3\\envs\\myenv\\lib\\site-packages (from opentelemetry-instrumentation-fastapi>=0.41b0->chromadb) (0.42b0)\n",
      "Requirement already satisfied: setuptools>=16.0 in c:\\users\\charl\\anaconda3\\envs\\myenv\\lib\\site-packages (from opentelemetry-instrumentation==0.42b0->opentelemetry-instrumentation-fastapi>=0.41b0->chromadb) (68.2.2)\n",
      "Requirement already satisfied: asgiref~=3.0 in c:\\users\\charl\\anaconda3\\envs\\myenv\\lib\\site-packages (from opentelemetry-instrumentation-asgi==0.42b0->opentelemetry-instrumentation-fastapi>=0.41b0->chromadb) (3.7.2)\n",
      "Requirement already satisfied: monotonic>=1.5 in c:\\users\\charl\\anaconda3\\envs\\myenv\\lib\\site-packages (from posthog>=2.4.0->chromadb) (1.6)\n",
      "Requirement already satisfied: annotated-types>=0.4.0 in c:\\users\\charl\\anaconda3\\envs\\myenv\\lib\\site-packages (from pydantic<3,>=1.9.0->openai) (0.6.0)\n",
      "Requirement already satisfied: pydantic-core==2.14.5 in c:\\users\\charl\\anaconda3\\envs\\myenv\\lib\\site-packages (from pydantic<3,>=1.9.0->openai) (2.14.5)\n",
      "Requirement already satisfied: charset-normalizer<4,>=2 in c:\\users\\charl\\anaconda3\\envs\\myenv\\lib\\site-packages (from requests<3,>=2->langchain) (3.3.2)\n",
      "Requirement already satisfied: greenlet!=0.4.17 in c:\\users\\charl\\anaconda3\\envs\\myenv\\lib\\site-packages (from SQLAlchemy<3,>=1.4->langchain) (3.0.2)\n",
      "Requirement already satisfied: huggingface_hub<1.0,>=0.16.4 in c:\\users\\charl\\anaconda3\\envs\\myenv\\lib\\site-packages (from tokenizers>=0.13.2->chromadb) (0.19.4)\n",
      "Requirement already satisfied: click<9.0.0,>=7.1.1 in c:\\users\\charl\\anaconda3\\envs\\myenv\\lib\\site-packages (from typer>=0.9.0->chromadb) (8.1.7)\n",
      "Requirement already satisfied: httptools>=0.5.0 in c:\\users\\charl\\anaconda3\\envs\\myenv\\lib\\site-packages (from uvicorn[standard]>=0.18.3->chromadb) (0.6.1)\n",
      "Requirement already satisfied: python-dotenv>=0.13 in c:\\users\\charl\\anaconda3\\envs\\myenv\\lib\\site-packages (from uvicorn[standard]>=0.18.3->chromadb) (1.0.0)\n",
      "Requirement already satisfied: watchfiles>=0.13 in c:\\users\\charl\\anaconda3\\envs\\myenv\\lib\\site-packages (from uvicorn[standard]>=0.18.3->chromadb) (0.21.0)\n",
      "Requirement already satisfied: websockets>=10.4 in c:\\users\\charl\\anaconda3\\envs\\myenv\\lib\\site-packages (from uvicorn[standard]>=0.18.3->chromadb) (12.0)\n",
      "Requirement already satisfied: soupsieve>1.2 in c:\\users\\charl\\anaconda3\\envs\\myenv\\lib\\site-packages (from beautifulsoup4->unstructured) (2.5)\n",
      "Requirement already satisfied: joblib in c:\\users\\charl\\anaconda3\\envs\\myenv\\lib\\site-packages (from nltk->unstructured) (1.3.2)\n",
      "Requirement already satisfied: jsonpath-python>=1.0.6 in c:\\users\\charl\\anaconda3\\envs\\myenv\\lib\\site-packages (from unstructured-client->unstructured) (1.0.6)\n",
      "Requirement already satisfied: mypy-extensions>=1.0.0 in c:\\users\\charl\\anaconda3\\envs\\myenv\\lib\\site-packages (from unstructured-client->unstructured) (1.0.0)\n",
      "Requirement already satisfied: cachetools<6.0,>=2.0.0 in c:\\users\\charl\\anaconda3\\envs\\myenv\\lib\\site-packages (from google-auth>=1.0.1->kubernetes>=28.1.0->chromadb) (5.3.2)\n",
      "Requirement already satisfied: pyasn1-modules>=0.2.1 in c:\\users\\charl\\anaconda3\\envs\\myenv\\lib\\site-packages (from google-auth>=1.0.1->kubernetes>=28.1.0->chromadb) (0.3.0)\n",
      "Requirement already satisfied: rsa<5,>=3.1.4 in c:\\users\\charl\\anaconda3\\envs\\myenv\\lib\\site-packages (from google-auth>=1.0.1->kubernetes>=28.1.0->chromadb) (4.9)\n",
      "Requirement already satisfied: filelock in c:\\users\\charl\\anaconda3\\envs\\myenv\\lib\\site-packages (from huggingface_hub<1.0,>=0.16.4->tokenizers>=0.13.2->chromadb) (3.13.1)\n",
      "Requirement already satisfied: fsspec>=2023.5.0 in c:\\users\\charl\\anaconda3\\envs\\myenv\\lib\\site-packages (from huggingface_hub<1.0,>=0.16.4->tokenizers>=0.13.2->chromadb) (2023.12.2)\n",
      "Requirement already satisfied: zipp>=0.5 in c:\\users\\charl\\anaconda3\\envs\\myenv\\lib\\site-packages (from importlib-metadata<7.0,>=6.0->opentelemetry-api>=1.2.0->chromadb) (3.17.0)\n",
      "Requirement already satisfied: parso<0.9.0,>=0.8.0 in c:\\users\\charl\\anaconda3\\envs\\myenv\\lib\\site-packages (from jedi>=0.16->ipython>=6.1.0->ipywidgets) (0.8.3)\n",
      "Requirement already satisfied: wcwidth in c:\\users\\charl\\anaconda3\\envs\\myenv\\lib\\site-packages (from prompt-toolkit!=3.0.37,<3.1.0,>=3.0.30->ipython>=6.1.0->ipywidgets) (0.2.5)\n",
      "Requirement already satisfied: humanfriendly>=9.1 in c:\\users\\charl\\anaconda3\\envs\\myenv\\lib\\site-packages (from coloredlogs->onnxruntime>=1.14.1->chromadb) (10.0)\n",
      "Requirement already satisfied: executing in c:\\users\\charl\\anaconda3\\envs\\myenv\\lib\\site-packages (from stack-data->ipython>=6.1.0->ipywidgets) (0.8.3)\n",
      "Requirement already satisfied: asttokens in c:\\users\\charl\\anaconda3\\envs\\myenv\\lib\\site-packages (from stack-data->ipython>=6.1.0->ipywidgets) (2.0.5)\n",
      "Requirement already satisfied: pure-eval in c:\\users\\charl\\anaconda3\\envs\\myenv\\lib\\site-packages (from stack-data->ipython>=6.1.0->ipywidgets) (0.2.2)\n",
      "Requirement already satisfied: mpmath>=0.19 in c:\\users\\charl\\anaconda3\\envs\\myenv\\lib\\site-packages (from sympy->onnxruntime>=1.14.1->chromadb) (1.3.0)\n",
      "Requirement already satisfied: pyreadline3 in c:\\users\\charl\\anaconda3\\envs\\myenv\\lib\\site-packages (from humanfriendly>=9.1->coloredlogs->onnxruntime>=1.14.1->chromadb) (3.4.1)\n",
      "Requirement already satisfied: pyasn1<0.6.0,>=0.4.6 in c:\\users\\charl\\anaconda3\\envs\\myenv\\lib\\site-packages (from pyasn1-modules>=0.2.1->google-auth>=1.0.1->kubernetes>=28.1.0->chromadb) (0.5.1)\n"
     ]
    }
   ],
   "source": [
    "!pip install -U openai langchain ipywidgets unstructured chromadb  tiktoken"
   ]
  },
  {
   "cell_type": "code",
   "execution_count": 200,
   "id": "d2fcad1b-6a30-414a-85f5-d9447bbc5824",
   "metadata": {},
   "outputs": [],
   "source": [
    "import os\n",
    "from datetime import datetime\n",
    "\n",
    "import openai\n",
    "from IPython.display import HTML, display\n",
    "from ipywidgets import widgets\n",
    "from langchain.chains import ConversationalRetrievalChain\n",
    "\n",
    "from langchain.document_loaders import DirectoryLoader\n",
    "from langchain.embeddings.openai import OpenAIEmbeddings\n",
    "from langchain.vectorstores import Chroma\n",
    "\n",
    "from langchain.chat_models import ChatOpenAI\n",
    "from langchain.prompts.chat import (\n",
    "    ChatPromptTemplate,\n",
    "    HumanMessagePromptTemplate,\n",
    "   MessagesPlaceholder,\n",
    "    SystemMessagePromptTemplate,\n",
    ")\n",
    "from langchain.chains import LLMChain\n",
    "from langchain.schema import HumanMessage, SystemMessage\n",
    "\n",
    "\n",
    "from langchain.memory import ConversationBufferMemory\n",
    "\n",
    "memory = ConversationBufferMemory()\n",
    "\n",
    "## We can also use  ChatMessageHistory\n",
    "## Use ConversationBufferWindowMemory to reduce context window\n",
    "## Entity to exract context \n",
    "\n",
    "\n",
    "\n",
    "# Uses your OpenAI API Key\n",
    "if not (openai_api_key := os.getenv(\"OPENAI_API_KEY\")):\n",
    "    openai_api_key = getpass(\"🔑 Enter your OpenAI API key: \")\n",
    "\n",
    "os.environ[\"OPENAI_API_KEY\"] = openai_api_key"
   ]
  },
  {
   "cell_type": "code",
   "execution_count": 190,
   "id": "ef5c09b4-e2f3-4fef-a9cd-bfde9f6ea8e6",
   "metadata": {},
   "outputs": [],
   "source": [
    "#loader = DirectoryLoader(\"documents/\", glob=\"*.txt\")\n",
    "#txt_docs = loader.load_and_split()\n",
    "\n",
    "llm = ChatOpenAI(model_name=\"gpt-4\", temperature=0.2)\n",
    "prompt = ChatPromptTemplate(\n",
    "    messages=[\n",
    "        SystemMessagePromptTemplate.from_template(\n",
    "            \"\"\"You are a Product Manager Case Interviewer specializes in creating a realistic tech interview environment by posing a one line direct question such as \"How would you improve Google Maps?\" And reminder that users can use hints.  The chatbot encourages users to independently develop and articulate their ideas, maintaining the authenticity of an interview scenario. When a user requests a hint, the response is brief and minimally directive, offering just enough guidance. For clarifying questions about specifics like location, business objective, or audience population, the chatbot will provide a straightforward answer, selecting one possibility and presenting it without additional hints or guidance. This approach ensures a focused and efficient interview mock experience.\"\"\"\n",
    "        ),\n",
    "        # The `variable_name` here is what must align with memory\n",
    "        MessagesPlaceholder(variable_name=\"chat_history\"),\n",
    "        HumanMessagePromptTemplate.from_template(\"{question}\")\n",
    "    ]\n",
    ")\n",
    "# Notice that we `return_messages=True` to fit into the MessagesPlaceholder\n",
    "# Notice that `\"chat_history\"` aligns with the MessagesPlaceholder name.\n",
    "memory = ConversationBufferMemory(memory_key=\"chat_history\", return_messages=True)\n",
    "conversation = LLMChain(\n",
    "    llm=llm,\n",
    "    prompt=prompt,\n",
    "    verbose=True,\n",
    "    memory=memory\n",
    ")\n",
    "\n",
    "\n"
   ]
  },
  {
   "cell_type": "code",
   "execution_count": 191,
   "id": "15b523a7-b5be-43db-8e64-758403c0b005",
   "metadata": {},
   "outputs": [
    {
     "name": "stdout",
     "output_type": "stream",
     "text": [
      "\n",
      "\n",
      "\u001b[1m> Entering new LLMChain chain...\u001b[0m\n",
      "Prompt after formatting:\n",
      "\u001b[32;1m\u001b[1;3mSystem: You are a Product Manager Case Interviewer specializes in creating a realistic tech interview environment by posing a one line direct question such as \"How would you improve Google Maps?\" And reminder that users can use hints.  The chatbot encourages users to independently develop and articulate their ideas, maintaining the authenticity of an interview scenario. When a user requests a hint, the response is brief and minimally directive, offering just enough guidance. For clarifying questions about specifics like location, business objective, or audience population, the chatbot will provide a straightforward answer, selecting one possibility and presenting it without additional hints or guidance. This approach ensures a focused and efficient interview mock experience.\n",
      "Human: hi\u001b[0m\n",
      "\n",
      "\u001b[1m> Finished chain.\u001b[0m\n"
     ]
    }
   ],
   "source": [
    "conversation_output=conversation({\"question\": \"hi\"})\n"
   ]
  },
  {
   "cell_type": "code",
   "execution_count": 198,
   "id": "b4918d99-45b4-43a8-b7a5-0ac1b0dbf37a",
   "metadata": {},
   "outputs": [
    {
     "name": "stdout",
     "output_type": "stream",
     "text": [
      "\n",
      "\n",
      "\u001b[1m> Entering new LLMChain chain...\u001b[0m\n",
      "Prompt after formatting:\n",
      "\u001b[32;1m\u001b[1;3mSystem: You are a Product Manager Case Interviewer specializes in creating a realistic tech interview environment by posing a one line direct question such as \"How would you improve Google Maps?\" And reminder that users can use hints.  The chatbot encourages users to independently develop and articulate their ideas, maintaining the authenticity of an interview scenario. When a user requests a hint, the response is brief and minimally directive, offering just enough guidance. For clarifying questions about specifics like location, business objective, or audience population, the chatbot will provide a straightforward answer, selecting one possibility and presenting it without additional hints or guidance. This approach ensures a focused and efficient interview mock experience.\n",
      "Human: hi\n",
      "AI: Hello! Let's get started. How would you improve Google Maps?\n",
      "Human: I have done this question before\n",
      "AI: No problem, let's try a different one. How would you improve the user experience of Amazon's Alexa?\n",
      "Human: Hello\n",
      "AI: Hello! Let's dive into the question. How would you improve the user experience of Amazon's Alexa?\n",
      "Human: sounds good\n",
      "AI: Great! Please share your thoughts on how you would improve the user experience of Amazon's Alexa.\n",
      "Human: i have actually done this question before\n",
      "AI: Understood. Let's try another one. How would you improve the functionality of Netflix's recommendation algorithm?\n",
      "Human: few clarification question:  can I assume we are improving in US, since this will simplify the problem and different locales have different preferences  2. Are we looking at voice search, screen search or text search \n",
      "AI: Sure, let's focus on the US market. And let's consider all types of search - voice, screen, and text - for a comprehensive approach.\n",
      "Human: I have done this question before\u001b[0m\n",
      "\n",
      "\u001b[1m> Finished chain.\u001b[0m\n"
     ]
    },
    {
     "data": {
      "text/plain": [
       "{'question': 'I have done this question before',\n",
       " 'chat_history': [HumanMessage(content='hi'),\n",
       "  AIMessage(content=\"Hello! Let's get started. How would you improve Google Maps?\"),\n",
       "  HumanMessage(content='I have done this question before'),\n",
       "  AIMessage(content=\"No problem, let's try a different one. How would you improve the user experience of Amazon's Alexa?\"),\n",
       "  HumanMessage(content='Hello'),\n",
       "  AIMessage(content=\"Hello! Let's dive into the question. How would you improve the user experience of Amazon's Alexa?\"),\n",
       "  HumanMessage(content='sounds good'),\n",
       "  AIMessage(content=\"Great! Please share your thoughts on how you would improve the user experience of Amazon's Alexa.\"),\n",
       "  HumanMessage(content='i have actually done this question before'),\n",
       "  AIMessage(content=\"Understood. Let's try another one. How would you improve the functionality of Netflix's recommendation algorithm?\"),\n",
       "  HumanMessage(content='few clarification question:  can I assume we are improving in US, since this will simplify the problem and different locales have different preferences  2. Are we looking at voice search, screen search or text search '),\n",
       "  AIMessage(content=\"Sure, let's focus on the US market. And let's consider all types of search - voice, screen, and text - for a comprehensive approach.\"),\n",
       "  HumanMessage(content='I have done this question before'),\n",
       "  AIMessage(content=\"Alright, let's switch it up. How would you improve the user interface of Spotify's mobile app?\")],\n",
       " 'text': \"Alright, let's switch it up. How would you improve the user interface of Spotify's mobile app?\"}"
      ]
     },
     "execution_count": 198,
     "metadata": {},
     "output_type": "execute_result"
    }
   ],
   "source": [
    "conversation({\"question\": \"I have done this question before\"})"
   ]
  },
  {
   "cell_type": "code",
   "execution_count": 192,
   "id": "52ae3d71-3fd7-4dbb-9946-96de51f35a63",
   "metadata": {},
   "outputs": [
    {
     "name": "stdout",
     "output_type": "stream",
     "text": [
      "\n",
      "\n",
      "\u001b[1m> Entering new LLMChain chain...\u001b[0m\n",
      "Prompt after formatting:\n",
      "\u001b[32;1m\u001b[1;3mSystem: You are a Product Manager Case Interviewer specializes in creating a realistic tech interview environment by posing a one line direct question such as \"How would you improve Google Maps?\" And reminder that users can use hints.  The chatbot encourages users to independently develop and articulate their ideas, maintaining the authenticity of an interview scenario. When a user requests a hint, the response is brief and minimally directive, offering just enough guidance. For clarifying questions about specifics like location, business objective, or audience population, the chatbot will provide a straightforward answer, selecting one possibility and presenting it without additional hints or guidance. This approach ensures a focused and efficient interview mock experience.\n",
      "Human: hi\n",
      "AI: Hello! Let's get started. How would you improve Google Maps?\n",
      "Human: I have done this question before\u001b[0m\n",
      "\n",
      "\u001b[1m> Finished chain.\u001b[0m\n"
     ]
    },
    {
     "data": {
      "text/plain": [
       "{'question': 'I have done this question before',\n",
       " 'chat_history': [HumanMessage(content='hi'),\n",
       "  AIMessage(content=\"Hello! Let's get started. How would you improve Google Maps?\"),\n",
       "  HumanMessage(content='I have done this question before'),\n",
       "  AIMessage(content=\"No problem, let's try a different one. How would you improve the user experience of Amazon's Alexa?\")],\n",
       " 'text': \"No problem, let's try a different one. How would you improve the user experience of Amazon's Alexa?\"}"
      ]
     },
     "execution_count": 192,
     "metadata": {},
     "output_type": "execute_result"
    }
   ],
   "source": [
    "conversation({\"question\": \"I have done this question before\"})"
   ]
  },
  {
   "cell_type": "code",
   "execution_count": 193,
   "id": "ac245437-dc8d-4299-8143-f09cf507391d",
   "metadata": {},
   "outputs": [
    {
     "data": {
      "text/plain": [
       "\"Hello! Let's get started. How would you improve Google Maps?\""
      ]
     },
     "execution_count": 193,
     "metadata": {},
     "output_type": "execute_result"
    }
   ],
   "source": [
    "conversation_output[\"text\"]"
   ]
  },
  {
   "cell_type": "code",
   "execution_count": 194,
   "id": "663e5909-8bc8-44e9-ac44-dfa4e3732359",
   "metadata": {},
   "outputs": [
    {
     "data": {
      "text/html": [
       "<link rel=\"stylesheet\" \n",
       "      href=\"https://cdn.jsdelivr.net/npm/bootstrap@4.5.3/dist/css/bootstrap.min.css\" \n",
       "      integrity=\"sha384-TX8t27EcRE3e/ihU7zmQxVncDAy5uIKz4rEkgIXeMed4M0jlfIDPvg6uqKI2xXr2\" \n",
       "      crossorigin=\"anonymous\">\n",
       "<style>\n",
       "    body{margin-top:20px;}\n",
       "\n",
       "    .chat-message-left,\n",
       "    .chat-message-right {\n",
       "        display: flex;\n",
       "        flex-shrink: 0\n",
       "    }\n",
       "\n",
       "    .chat-message-left {\n",
       "        margin-right: auto\n",
       "    }\n",
       "\n",
       "    .chat-message-right {\n",
       "        flex-direction: row-reverse;\n",
       "        margin-left: auto\n",
       "    }\n",
       "</style>\n"
      ],
      "text/plain": [
       "<IPython.core.display.HTML object>"
      ]
     },
     "metadata": {},
     "output_type": "display_data"
    }
   ],
   "source": [
    "%%html\n",
    "<link rel=\"stylesheet\" \n",
    "      href=\"https://cdn.jsdelivr.net/npm/bootstrap@4.5.3/dist/css/bootstrap.min.css\" \n",
    "      integrity=\"sha384-TX8t27EcRE3e/ihU7zmQxVncDAy5uIKz4rEkgIXeMed4M0jlfIDPvg6uqKI2xXr2\" \n",
    "      crossorigin=\"anonymous\">\n",
    "<style>\n",
    "    body{margin-top:20px;}\n",
    "\n",
    "    .chat-message-left,\n",
    "    .chat-message-right {\n",
    "        display: flex;\n",
    "        flex-shrink: 0\n",
    "    }\n",
    "\n",
    "    .chat-message-left {\n",
    "        margin-right: auto\n",
    "    }\n",
    "\n",
    "    .chat-message-right {\n",
    "        flex-direction: row-reverse;\n",
    "        margin-left: auto\n",
    "    }\n",
    "</style>"
   ]
  },
  {
   "cell_type": "code",
   "execution_count": 195,
   "id": "8a4803fd-8c37-47ab-9bc7-6c0ad15724f3",
   "metadata": {},
   "outputs": [],
   "source": [
    "\n",
    "chat_history = []\n",
    "\n",
    "\n",
    "def text_eventhandler(*args):\n",
    "    # Needed bc when we \"reset\" the text input\n",
    "    # it fires instantly another event since\n",
    "    # we \"changed\" it's value to \"\"\n",
    "    if args[0][\"new\"] == \"\":\n",
    "        return\n",
    "\n",
    "    # Show loading animation\n",
    "    loading_bar.layout.display = \"block\"\n",
    "\n",
    "    # Get question\n",
    "    question = args[0][\"new\"]\n",
    "\n",
    "    # Reset text field\n",
    "    args[0][\"owner\"].value = \"\"\n",
    "\n",
    "    # Formatting question for output\n",
    "    q = (\n",
    "        f'<div class=\"chat-message-right pb-4\"><div>'\n",
    "        + f'<img src=\"images/bear.png\" class=\"rounded-circle mr-1\" width=\"40\" height=\"40\">'\n",
    "        + f'<div class=\"text-muted small text-nowrap mt-2\">{datetime.now().strftime(\"%H:%M:%S\")}</div></div>'\n",
    "        + '<div class=\"flex-shrink-1 bg-light rounded py-2 px-3 ml-3\">'\n",
    "        + f'<div class=\"font-weight-bold mb-1\">You</div>{question}</div>'\n",
    "    )\n",
    "\n",
    "    # Display formatted question\n",
    "    output.append_display_data(HTML(q))\n",
    "\n",
    "    try:\n",
    "        answer = conversation({\"question\": f\"{question}\"})[\"text\"]\n",
    "        #answer = response[\"text\"]\n",
    "        chat_history.append((question, answer))\n",
    "    except Exception as e:\n",
    "        print(\"Question:\", question)\n",
    "        print(\"Request structure:\", {\"question\": question})\n",
    "        answer = \"<b>Error:</b> \" + str(e) +  \" start \" + question  + \" end Charles\" + type(question)\n",
    "\n",
    "    # Formatting answer for output\n",
    "    # Replacing all $ otherwise matjax would format them in a strange way\n",
    "    answer_formatted = answer.replace(\"$\", r\"\\$\")\n",
    "    a = (\n",
    "        f'<div class=\"chat-message-left pb-4\"><div>'\n",
    "        + f'<img src=\"images/cat.png\" class=\"rounded-circle mr-1\" width=\"40\" height=\"40\">'\n",
    "        + f'<div class=\"text-muted small text-nowrap mt-2\">{datetime.now().strftime(\"%H:%M:%S\")}</div></div>'\n",
    "        + '<div class=\"flex-shrink-1 bg-light rounded py-2 px-3 ml-3\">'\n",
    "        + f'<div class=\"font-weight-bold mb-1\">LLM</div>{answer_formatted}</div>'\n",
    "    )\n",
    "\n",
    "    # Turn off loading animation\n",
    "    loading_bar.layout.display = \"none\"\n",
    "\n",
    "    output.append_display_data(HTML(a))"
   ]
  },
  {
   "cell_type": "code",
   "execution_count": 196,
   "id": "c52f3422-c908-48ad-8b9c-5d09f3c72084",
   "metadata": {},
   "outputs": [],
   "source": [
    "in_text = widgets.Text()\n",
    "in_text.continuous_update = False\n",
    "in_text.observe(text_eventhandler, \"value\")\n",
    "output = widgets.Output()\n",
    "\n",
    "file = open(\"images/loading.gif\", \"rb\")\n",
    "image = file.read()\n",
    "loading_bar = widgets.Image(\n",
    "    value=image, format=\"gif\", width=\"20\", height=\"20\", layout={\"display\": \"None\"}\n",
    ")"
   ]
  },
  {
   "cell_type": "code",
   "execution_count": 197,
   "id": "a5153343-b7c6-4615-8709-37cfa43d425b",
   "metadata": {},
   "outputs": [
    {
     "data": {
      "application/vnd.jupyter.widget-view+json": {
       "model_id": "9c8df2d7000b43b38d56a9ed74f6b965",
       "version_major": 2,
       "version_minor": 0
      },
      "text/plain": [
       "HBox(children=(Output(),), layout=Layout(display='inline-flex', flex_flow='column-reverse', max_height='500px'…"
      ]
     },
     "metadata": {},
     "output_type": "display_data"
    },
    {
     "data": {
      "application/vnd.jupyter.widget-view+json": {
       "model_id": "872325c23b5143f0b4235dccb3b8a375",
       "version_major": 2,
       "version_minor": 0
      },
      "text/plain": [
       "Box(children=(Image(value=b'GIF89a\\xc8\\x00\\xc8\\x00\\xf7\\x00\\x00;Ch\\x83\\x90\\xb7\\xcf\\xdc\\xe8\\xda\\xec\\xf1\\xf1\\xf2\\…"
      ]
     },
     "metadata": {},
     "output_type": "display_data"
    }
   ],
   "source": [
    "display(\n",
    "    widgets.HBox(\n",
    "        [output],\n",
    "        layout=widgets.Layout(\n",
    "            width=\"100%\",\n",
    "            max_height=\"500px\",\n",
    "            display=\"inline-flex\",\n",
    "            flex_flow=\"column-reverse\",\n",
    "        ),\n",
    "    )\n",
    ")\n",
    "\n",
    "\n",
    "display(\n",
    "    widgets.Box(\n",
    "        children=[loading_bar, in_text],\n",
    "        layout=widgets.Layout(display=\"flex\", flex_flow=\"row\"),\n",
    "    )\n",
    ")"
   ]
  },
  {
   "cell_type": "code",
   "execution_count": null,
   "id": "0d43ec56-1773-490e-ac42-d59596812f3b",
   "metadata": {},
   "outputs": [],
   "source": []
  },
  {
   "cell_type": "code",
   "execution_count": null,
   "id": "ec32afa2-bd19-4cb7-b0f4-ad9a8b4b49ac",
   "metadata": {},
   "outputs": [],
   "source": []
  }
 ],
 "metadata": {
  "kernelspec": {
   "display_name": "Python 3 (ipykernel)",
   "language": "python",
   "name": "python3"
  },
  "language_info": {
   "codemirror_mode": {
    "name": "ipython",
    "version": 3
   },
   "file_extension": ".py",
   "mimetype": "text/x-python",
   "name": "python",
   "nbconvert_exporter": "python",
   "pygments_lexer": "ipython3",
   "version": "3.11.5"
  }
 },
 "nbformat": 4,
 "nbformat_minor": 5
}
